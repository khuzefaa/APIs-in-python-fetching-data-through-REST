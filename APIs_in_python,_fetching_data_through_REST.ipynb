{
  "cells": [
    {
      "cell_type": "markdown",
      "metadata": {
        "id": "5wXPIbkp4WCn"
      },
      "source": [
        "# APIs in python, fetching data through REST"
      ]
    },
    {
      "cell_type": "code",
      "execution_count": null,
      "metadata": {
        "id": "GB0jnBr1oUlm"
      },
      "outputs": [],
      "source": [
        "import requests\n",
        "\n",
        "# Base URL for testing\n",
        "BASE_URL = \"https://jsonplaceholder.typicode.com/posts\""
      ]
    },
    {
      "cell_type": "code",
      "execution_count": null,
      "metadata": {
        "colab": {
          "base_uri": "https://localhost:8080/"
        },
        "id": "5hqRCxaKeJZF",
        "outputId": "4a0e5296-f18f-463f-c814-40fd674b752f"
      },
      "outputs": [
        {
          "name": "stdout",
          "output_type": "stream",
          "text": [
            "POST Response:  201\n",
            "{'title': 'My First Post', 'body': 'This is a test post created using Python.', 'userId': 1, 'id': 101}\n"
          ]
        }
      ],
      "source": [
        "# ----------------- 1. CREATE (POST) -----------------\n",
        "new_post = {\n",
        "    \"title\": \"My First Post\",\n",
        "    \"body\": \"This is a test post created using Python.\",\n",
        "    \"userId\": 1\n",
        "}\n",
        "\n",
        "response = requests.post(BASE_URL, json=new_post)\n",
        "print(\"POST Response: \", response.status_code)\n",
        "print(response.json())"
      ]
    },
    {
      "cell_type": "code",
      "execution_count": null,
      "metadata": {
        "colab": {
          "base_uri": "https://localhost:8080/"
        },
        "id": "EsEAh_MUe23X",
        "outputId": "29b0a559-9478-49a3-869b-94026f30da95"
      },
      "outputs": [
        {
          "name": "stdout",
          "output_type": "stream",
          "text": [
            "GET Response:  200\n",
            "{'userId': 1, 'id': 1, 'title': 'sunt aut facere repellat provident occaecati excepturi optio reprehenderit', 'body': 'quia et suscipit\\nsuscipit recusandae consequuntur expedita et cum\\nreprehenderit molestiae ut ut quas totam\\nnostrum rerum est autem sunt rem eveniet architecto'}\n"
          ]
        }
      ],
      "source": [
        "# ----------------- 2. READ (GET) -----------------\n",
        "post_id = 1\n",
        "response = requests.get(f\"{BASE_URL}/{post_id}\")\n",
        "print(\"GET Response: \", response.status_code)\n",
        "print(response.json())"
      ]
    },
    {
      "cell_type": "code",
      "execution_count": null,
      "metadata": {
        "colab": {
          "base_uri": "https://localhost:8080/"
        },
        "id": "ugDUFUm4fATQ",
        "outputId": "92ccf2ef-cb0a-45bf-d4fa-396f748b1691"
      },
      "outputs": [
        {
          "name": "stdout",
          "output_type": "stream",
          "text": [
            "PUT (Update) Response:  200\n",
            "{'id': 1, 'title': 'Updated Title', 'body': 'Updated body of the post.', 'userId': 1}\n"
          ]
        }
      ],
      "source": [
        "# ----------------- 3. UPDATE (PUT) -----------------\n",
        "updated_post = {\n",
        "    \"id\": post_id,\n",
        "    \"title\": \"Updated Title\",\n",
        "    \"body\": \"Updated body of the post.\",\n",
        "    \"userId\": 1\n",
        "}\n",
        "\n",
        "response = requests.put(f\"{BASE_URL}/{post_id}\", json=updated_post)\n",
        "print(\"PUT (Update) Response: \", response.status_code)\n",
        "print(response.json())"
      ]
    },
    {
      "cell_type": "code",
      "execution_count": null,
      "metadata": {
        "colab": {
          "base_uri": "https://localhost:8080/"
        },
        "id": "2Xs0MRDufEG4",
        "outputId": "c1968045-6984-4f1d-ab46-4755156df013"
      },
      "outputs": [
        {
          "name": "stdout",
          "output_type": "stream",
          "text": [
            "DELETE Response:  200\n",
            "Deleted\n"
          ]
        }
      ],
      "source": [
        "# ----------------- 4. DELETE -----------------\n",
        "response = requests.delete(f\"{BASE_URL}/{post_id}\")\n",
        "print(\"DELETE Response: \", response.status_code)\n",
        "print(\"Deleted\" if response.status_code == 200 else \"Failed to delete\")"
      ]
    },
    {
      "cell_type": "markdown",
      "metadata": {
        "id": "JhxQn5IN4g26"
      },
      "source": [
        "# Databases in python, data loading and processing"
      ]
    },
    {
      "cell_type": "code",
      "execution_count": null,
      "metadata": {
        "colab": {
          "base_uri": "https://localhost:8080/"
        },
        "id": "ghKLYKU9nep-",
        "outputId": "54c0122a-2843-4a2a-aea8-03eb862c523e"
      },
      "outputs": [
        {
          "name": "stdout",
          "output_type": "stream",
          "text": [
            "Requirement already satisfied: sqlalchemy in /usr/local/lib/python3.11/dist-packages (2.0.41)\n",
            "Requirement already satisfied: greenlet>=1 in /usr/local/lib/python3.11/dist-packages (from sqlalchemy) (3.2.2)\n",
            "Requirement already satisfied: typing-extensions>=4.6.0 in /usr/local/lib/python3.11/dist-packages (from sqlalchemy) (4.13.2)\n"
          ]
        }
      ],
      "source": [
        "!pip install sqlalchemy"
      ]
    },
    {
      "cell_type": "code",
      "execution_count": null,
      "metadata": {
        "colab": {
          "base_uri": "https://localhost:8080/"
        },
        "id": "qhtRRlIwne96",
        "outputId": "eba6d357-27b6-4216-d544-631a998fd29a"
      },
      "outputs": [
        {
          "name": "stdout",
          "output_type": "stream",
          "text": [
            "('Illinois', 'M', 0, 89600, 95012)\n",
            "('Illinois', 'M', 1, 88445, 91829)\n",
            "('Illinois', 'M', 2, 88729, 89547)\n",
            "('Illinois', 'M', 3, 88868, 90037)\n",
            "('Illinois', 'M', 4, 91947, 91111)\n"
          ]
        }
      ],
      "source": [
        "from sqlalchemy import create_engine, text\n",
        "engine = create_engine('sqlite:///census_nyc.sqlite')\n",
        "connection = engine.connect()\n",
        "\n",
        "result = connection.execute(text(\"SELECT * FROM census LIMIT 5\"))\n",
        "\n",
        "for row in result:\n",
        "    print(row)"
      ]
    },
    {
      "cell_type": "code",
      "execution_count": null,
      "metadata": {
        "colab": {
          "base_uri": "https://localhost:8080/"
        },
        "id": "QAcrKMwKn18f",
        "outputId": "edba3b01-8f3e-41a1-9876-c27a6d40f225"
      },
      "outputs": [
        {
          "name": "stdout",
          "output_type": "stream",
          "text": [
            "Tables: ['census', 'state_fact']\n"
          ]
        }
      ],
      "source": [
        "from sqlalchemy import inspect\n",
        "\n",
        "inspector = inspect(engine)\n",
        "tables = inspector.get_table_names()\n",
        "\n",
        "print(\"Tables:\", tables)"
      ]
    },
    {
      "cell_type": "code",
      "execution_count": null,
      "metadata": {
        "colab": {
          "base_uri": "https://localhost:8080/"
        },
        "id": "lwsFfUsgpCH5",
        "outputId": "4f4460df-f4dd-41b6-a668-b56d4ffc84ed"
      },
      "outputs": [
        {
          "name": "stdout",
          "output_type": "stream",
          "text": [
            "Table('census', MetaData(), Column('state', VARCHAR(length=30), table=<census>), Column('sex', VARCHAR(length=1), table=<census>), Column('age', INTEGER(), table=<census>), Column('pop2000', INTEGER(), table=<census>), Column('pop2008', INTEGER(), table=<census>), schema=None)\n"
          ]
        }
      ],
      "source": [
        "from sqlalchemy import MetaData, Table\n",
        "\n",
        "metadata = MetaData()\n",
        "census = Table('census', metadata, autoload_with=engine)\n",
        "\n",
        "print(repr(census))"
      ]
    },
    {
      "cell_type": "code",
      "execution_count": null,
      "metadata": {
        "colab": {
          "base_uri": "https://localhost:8080/",
          "height": 206
        },
        "id": "4oA3PgnRwKmD",
        "outputId": "cf4a5fe8-6984-46ad-d631-ab6c7574d771"
      },
      "outputs": [
        {
          "data": {
            "application/vnd.google.colaboratory.intrinsic+json": {
              "summary": "{\n  \"name\": \"df\",\n  \"rows\": 8772,\n  \"fields\": [\n    {\n      \"column\": \"state\",\n      \"properties\": {\n        \"dtype\": \"category\",\n        \"num_unique_values\": 51,\n        \"samples\": [\n          \"Wyoming\",\n          \"Nebraska\",\n          \"Mississippi\"\n        ],\n        \"semantic_type\": \"\",\n        \"description\": \"\"\n      }\n    },\n    {\n      \"column\": \"sex\",\n      \"properties\": {\n        \"dtype\": \"category\",\n        \"num_unique_values\": 2,\n        \"samples\": [\n          \"F\",\n          \"M\"\n        ],\n        \"semantic_type\": \"\",\n        \"description\": \"\"\n      }\n    },\n    {\n      \"column\": \"age\",\n      \"properties\": {\n        \"dtype\": \"number\",\n        \"std\": 24,\n        \"min\": 0,\n        \"max\": 85,\n        \"num_unique_values\": 86,\n        \"samples\": [\n          75,\n          0\n        ],\n        \"semantic_type\": \"\",\n        \"description\": \"\"\n      }\n    },\n    {\n      \"column\": \"pop2000\",\n      \"properties\": {\n        \"dtype\": \"number\",\n        \"std\": 39631,\n        \"min\": 217,\n        \"max\": 294583,\n        \"num_unique_values\": 8054,\n        \"samples\": [\n          10243,\n          12750\n        ],\n        \"semantic_type\": \"\",\n        \"description\": \"\"\n      }\n    },\n    {\n      \"column\": \"pop2008\",\n      \"properties\": {\n        \"dtype\": \"number\",\n        \"std\": 42508,\n        \"min\": 391,\n        \"max\": 400288,\n        \"num_unique_values\": 8107,\n        \"samples\": [\n          127224,\n          3310\n        ],\n        \"semantic_type\": \"\",\n        \"description\": \"\"\n      }\n    }\n  ]\n}",
              "type": "dataframe",
              "variable_name": "df"
            },
            "text/html": [
              "\n",
              "  <div id=\"df-b08f8829-3ae4-4e46-9d11-9d96874056dc\" class=\"colab-df-container\">\n",
              "    <div>\n",
              "<style scoped>\n",
              "    .dataframe tbody tr th:only-of-type {\n",
              "        vertical-align: middle;\n",
              "    }\n",
              "\n",
              "    .dataframe tbody tr th {\n",
              "        vertical-align: top;\n",
              "    }\n",
              "\n",
              "    .dataframe thead th {\n",
              "        text-align: right;\n",
              "    }\n",
              "</style>\n",
              "<table border=\"1\" class=\"dataframe\">\n",
              "  <thead>\n",
              "    <tr style=\"text-align: right;\">\n",
              "      <th></th>\n",
              "      <th>state</th>\n",
              "      <th>sex</th>\n",
              "      <th>age</th>\n",
              "      <th>pop2000</th>\n",
              "      <th>pop2008</th>\n",
              "    </tr>\n",
              "  </thead>\n",
              "  <tbody>\n",
              "    <tr>\n",
              "      <th>0</th>\n",
              "      <td>Illinois</td>\n",
              "      <td>M</td>\n",
              "      <td>0</td>\n",
              "      <td>89600</td>\n",
              "      <td>95012</td>\n",
              "    </tr>\n",
              "    <tr>\n",
              "      <th>1</th>\n",
              "      <td>Illinois</td>\n",
              "      <td>M</td>\n",
              "      <td>1</td>\n",
              "      <td>88445</td>\n",
              "      <td>91829</td>\n",
              "    </tr>\n",
              "    <tr>\n",
              "      <th>2</th>\n",
              "      <td>Illinois</td>\n",
              "      <td>M</td>\n",
              "      <td>2</td>\n",
              "      <td>88729</td>\n",
              "      <td>89547</td>\n",
              "    </tr>\n",
              "    <tr>\n",
              "      <th>3</th>\n",
              "      <td>Illinois</td>\n",
              "      <td>M</td>\n",
              "      <td>3</td>\n",
              "      <td>88868</td>\n",
              "      <td>90037</td>\n",
              "    </tr>\n",
              "    <tr>\n",
              "      <th>4</th>\n",
              "      <td>Illinois</td>\n",
              "      <td>M</td>\n",
              "      <td>4</td>\n",
              "      <td>91947</td>\n",
              "      <td>91111</td>\n",
              "    </tr>\n",
              "  </tbody>\n",
              "</table>\n",
              "</div>\n",
              "    <div class=\"colab-df-buttons\">\n",
              "\n",
              "  <div class=\"colab-df-container\">\n",
              "    <button class=\"colab-df-convert\" onclick=\"convertToInteractive('df-b08f8829-3ae4-4e46-9d11-9d96874056dc')\"\n",
              "            title=\"Convert this dataframe to an interactive table.\"\n",
              "            style=\"display:none;\">\n",
              "\n",
              "  <svg xmlns=\"http://www.w3.org/2000/svg\" height=\"24px\" viewBox=\"0 -960 960 960\">\n",
              "    <path d=\"M120-120v-720h720v720H120Zm60-500h600v-160H180v160Zm220 220h160v-160H400v160Zm0 220h160v-160H400v160ZM180-400h160v-160H180v160Zm440 0h160v-160H620v160ZM180-180h160v-160H180v160Zm440 0h160v-160H620v160Z\"/>\n",
              "  </svg>\n",
              "    </button>\n",
              "\n",
              "  <style>\n",
              "    .colab-df-container {\n",
              "      display:flex;\n",
              "      gap: 12px;\n",
              "    }\n",
              "\n",
              "    .colab-df-convert {\n",
              "      background-color: #E8F0FE;\n",
              "      border: none;\n",
              "      border-radius: 50%;\n",
              "      cursor: pointer;\n",
              "      display: none;\n",
              "      fill: #1967D2;\n",
              "      height: 32px;\n",
              "      padding: 0 0 0 0;\n",
              "      width: 32px;\n",
              "    }\n",
              "\n",
              "    .colab-df-convert:hover {\n",
              "      background-color: #E2EBFA;\n",
              "      box-shadow: 0px 1px 2px rgba(60, 64, 67, 0.3), 0px 1px 3px 1px rgba(60, 64, 67, 0.15);\n",
              "      fill: #174EA6;\n",
              "    }\n",
              "\n",
              "    .colab-df-buttons div {\n",
              "      margin-bottom: 4px;\n",
              "    }\n",
              "\n",
              "    [theme=dark] .colab-df-convert {\n",
              "      background-color: #3B4455;\n",
              "      fill: #D2E3FC;\n",
              "    }\n",
              "\n",
              "    [theme=dark] .colab-df-convert:hover {\n",
              "      background-color: #434B5C;\n",
              "      box-shadow: 0px 1px 3px 1px rgba(0, 0, 0, 0.15);\n",
              "      filter: drop-shadow(0px 1px 2px rgba(0, 0, 0, 0.3));\n",
              "      fill: #FFFFFF;\n",
              "    }\n",
              "  </style>\n",
              "\n",
              "    <script>\n",
              "      const buttonEl =\n",
              "        document.querySelector('#df-b08f8829-3ae4-4e46-9d11-9d96874056dc button.colab-df-convert');\n",
              "      buttonEl.style.display =\n",
              "        google.colab.kernel.accessAllowed ? 'block' : 'none';\n",
              "\n",
              "      async function convertToInteractive(key) {\n",
              "        const element = document.querySelector('#df-b08f8829-3ae4-4e46-9d11-9d96874056dc');\n",
              "        const dataTable =\n",
              "          await google.colab.kernel.invokeFunction('convertToInteractive',\n",
              "                                                    [key], {});\n",
              "        if (!dataTable) return;\n",
              "\n",
              "        const docLinkHtml = 'Like what you see? Visit the ' +\n",
              "          '<a target=\"_blank\" href=https://colab.research.google.com/notebooks/data_table.ipynb>data table notebook</a>'\n",
              "          + ' to learn more about interactive tables.';\n",
              "        element.innerHTML = '';\n",
              "        dataTable['output_type'] = 'display_data';\n",
              "        await google.colab.output.renderOutput(dataTable, element);\n",
              "        const docLink = document.createElement('div');\n",
              "        docLink.innerHTML = docLinkHtml;\n",
              "        element.appendChild(docLink);\n",
              "      }\n",
              "    </script>\n",
              "  </div>\n",
              "\n",
              "\n",
              "    <div id=\"df-cac0bda0-0654-49d6-ba10-1c49d806bc1e\">\n",
              "      <button class=\"colab-df-quickchart\" onclick=\"quickchart('df-cac0bda0-0654-49d6-ba10-1c49d806bc1e')\"\n",
              "                title=\"Suggest charts\"\n",
              "                style=\"display:none;\">\n",
              "\n",
              "<svg xmlns=\"http://www.w3.org/2000/svg\" height=\"24px\"viewBox=\"0 0 24 24\"\n",
              "     width=\"24px\">\n",
              "    <g>\n",
              "        <path d=\"M19 3H5c-1.1 0-2 .9-2 2v14c0 1.1.9 2 2 2h14c1.1 0 2-.9 2-2V5c0-1.1-.9-2-2-2zM9 17H7v-7h2v7zm4 0h-2V7h2v10zm4 0h-2v-4h2v4z\"/>\n",
              "    </g>\n",
              "</svg>\n",
              "      </button>\n",
              "\n",
              "<style>\n",
              "  .colab-df-quickchart {\n",
              "      --bg-color: #E8F0FE;\n",
              "      --fill-color: #1967D2;\n",
              "      --hover-bg-color: #E2EBFA;\n",
              "      --hover-fill-color: #174EA6;\n",
              "      --disabled-fill-color: #AAA;\n",
              "      --disabled-bg-color: #DDD;\n",
              "  }\n",
              "\n",
              "  [theme=dark] .colab-df-quickchart {\n",
              "      --bg-color: #3B4455;\n",
              "      --fill-color: #D2E3FC;\n",
              "      --hover-bg-color: #434B5C;\n",
              "      --hover-fill-color: #FFFFFF;\n",
              "      --disabled-bg-color: #3B4455;\n",
              "      --disabled-fill-color: #666;\n",
              "  }\n",
              "\n",
              "  .colab-df-quickchart {\n",
              "    background-color: var(--bg-color);\n",
              "    border: none;\n",
              "    border-radius: 50%;\n",
              "    cursor: pointer;\n",
              "    display: none;\n",
              "    fill: var(--fill-color);\n",
              "    height: 32px;\n",
              "    padding: 0;\n",
              "    width: 32px;\n",
              "  }\n",
              "\n",
              "  .colab-df-quickchart:hover {\n",
              "    background-color: var(--hover-bg-color);\n",
              "    box-shadow: 0 1px 2px rgba(60, 64, 67, 0.3), 0 1px 3px 1px rgba(60, 64, 67, 0.15);\n",
              "    fill: var(--button-hover-fill-color);\n",
              "  }\n",
              "\n",
              "  .colab-df-quickchart-complete:disabled,\n",
              "  .colab-df-quickchart-complete:disabled:hover {\n",
              "    background-color: var(--disabled-bg-color);\n",
              "    fill: var(--disabled-fill-color);\n",
              "    box-shadow: none;\n",
              "  }\n",
              "\n",
              "  .colab-df-spinner {\n",
              "    border: 2px solid var(--fill-color);\n",
              "    border-color: transparent;\n",
              "    border-bottom-color: var(--fill-color);\n",
              "    animation:\n",
              "      spin 1s steps(1) infinite;\n",
              "  }\n",
              "\n",
              "  @keyframes spin {\n",
              "    0% {\n",
              "      border-color: transparent;\n",
              "      border-bottom-color: var(--fill-color);\n",
              "      border-left-color: var(--fill-color);\n",
              "    }\n",
              "    20% {\n",
              "      border-color: transparent;\n",
              "      border-left-color: var(--fill-color);\n",
              "      border-top-color: var(--fill-color);\n",
              "    }\n",
              "    30% {\n",
              "      border-color: transparent;\n",
              "      border-left-color: var(--fill-color);\n",
              "      border-top-color: var(--fill-color);\n",
              "      border-right-color: var(--fill-color);\n",
              "    }\n",
              "    40% {\n",
              "      border-color: transparent;\n",
              "      border-right-color: var(--fill-color);\n",
              "      border-top-color: var(--fill-color);\n",
              "    }\n",
              "    60% {\n",
              "      border-color: transparent;\n",
              "      border-right-color: var(--fill-color);\n",
              "    }\n",
              "    80% {\n",
              "      border-color: transparent;\n",
              "      border-right-color: var(--fill-color);\n",
              "      border-bottom-color: var(--fill-color);\n",
              "    }\n",
              "    90% {\n",
              "      border-color: transparent;\n",
              "      border-bottom-color: var(--fill-color);\n",
              "    }\n",
              "  }\n",
              "</style>\n",
              "\n",
              "      <script>\n",
              "        async function quickchart(key) {\n",
              "          const quickchartButtonEl =\n",
              "            document.querySelector('#' + key + ' button');\n",
              "          quickchartButtonEl.disabled = true;  // To prevent multiple clicks.\n",
              "          quickchartButtonEl.classList.add('colab-df-spinner');\n",
              "          try {\n",
              "            const charts = await google.colab.kernel.invokeFunction(\n",
              "                'suggestCharts', [key], {});\n",
              "          } catch (error) {\n",
              "            console.error('Error during call to suggestCharts:', error);\n",
              "          }\n",
              "          quickchartButtonEl.classList.remove('colab-df-spinner');\n",
              "          quickchartButtonEl.classList.add('colab-df-quickchart-complete');\n",
              "        }\n",
              "        (() => {\n",
              "          let quickchartButtonEl =\n",
              "            document.querySelector('#df-cac0bda0-0654-49d6-ba10-1c49d806bc1e button');\n",
              "          quickchartButtonEl.style.display =\n",
              "            google.colab.kernel.accessAllowed ? 'block' : 'none';\n",
              "        })();\n",
              "      </script>\n",
              "    </div>\n",
              "\n",
              "    </div>\n",
              "  </div>\n"
            ],
            "text/plain": [
              "      state sex  age  pop2000  pop2008\n",
              "0  Illinois   M    0    89600    95012\n",
              "1  Illinois   M    1    88445    91829\n",
              "2  Illinois   M    2    88729    89547\n",
              "3  Illinois   M    3    88868    90037\n",
              "4  Illinois   M    4    91947    91111"
            ]
          },
          "execution_count": 24,
          "metadata": {},
          "output_type": "execute_result"
        }
      ],
      "source": [
        "from sqlalchemy import text\n",
        "import pandas as pd\n",
        "\n",
        "stmt = text(\"SELECT * FROM census\")\n",
        "\n",
        "result_proxy = connection.execute(stmt)\n",
        "rows = result_proxy.fetchall()\n",
        "columns = result_proxy.keys()\n",
        "\n",
        "df = pd.DataFrame(rows, columns=columns)\n",
        "\n",
        "df.head()"
      ]
    },
    {
      "cell_type": "code",
      "execution_count": null,
      "metadata": {
        "id": "0Vp8uHe7w513"
      },
      "outputs": [],
      "source": [
        "from sqlalchemy import Table, MetaData\n",
        "\n",
        "metadata = MetaData()\n",
        "census = Table('census', metadata, autoload_with=engine)\n"
      ]
    },
    {
      "cell_type": "code",
      "execution_count": null,
      "metadata": {
        "colab": {
          "base_uri": "https://localhost:8080/"
        },
        "id": "V5u9HZpT0FDt",
        "outputId": "ebfec30a-261d-48d6-f031-5d0ef5730919"
      },
      "outputs": [
        {
          "name": "stdout",
          "output_type": "stream",
          "text": [
            "Row inserted successfully.\n"
          ]
        }
      ],
      "source": [
        "from sqlalchemy import insert\n",
        "# Define the row you want to insert\n",
        "new_data = {\n",
        "    'state': 'Illinois',\n",
        "    'sex': 'M',\n",
        "    'age': 30,\n",
        "    'pop2000': 50000,\n",
        "    'pop2008': 50000\n",
        "}\n",
        "stmt = insert(census).values(new_data)\n",
        "# Execute the insert\n",
        "with engine.connect() as conn:\n",
        "    conn.execute(stmt)\n",
        "    conn.commit()\n",
        "print(\"Row inserted successfully.\")"
      ]
    },
    {
      "cell_type": "code",
      "execution_count": null,
      "metadata": {
        "colab": {
          "base_uri": "https://localhost:8080/"
        },
        "id": "p2sdPfdl0c2U",
        "outputId": "2105d6e1-e1f7-494d-f03c-82d33bf91fae"
      },
      "outputs": [
        {
          "name": "stdout",
          "output_type": "stream",
          "text": [
            "[]\n"
          ]
        }
      ],
      "source": [
        "stmt = text(\"SELECT * FROM census WHERE pop2000 = 50000\")\n",
        "\n",
        "with engine.connect() as conn:\n",
        "    result = conn.execute(stmt)\n",
        "    row = result.fetchall()\n",
        "\n",
        "print(row)"
      ]
    },
    {
      "cell_type": "code",
      "execution_count": null,
      "metadata": {
        "colab": {
          "base_uri": "https://localhost:8080/"
        },
        "id": "XR3BGSdw2LXl",
        "outputId": "419f5ba6-13bc-4177-907c-c77e4e62a3bb"
      },
      "outputs": [
        {
          "name": "stdout",
          "output_type": "stream",
          "text": [
            "Row deleted successfully.\n"
          ]
        }
      ],
      "source": [
        "stmt = text(\"DELETE FROM census WHERE pop2000 = 50000\")\n",
        "\n",
        "with engine.connect() as conn:\n",
        "    conn.execute(stmt)\n",
        "    conn.commit()\n",
        "\n",
        "print(\"Row deleted successfully.\")"
      ]
    },
    {
      "cell_type": "code",
      "execution_count": null,
      "metadata": {
        "id": "cBrHqIkQ2SEE"
      },
      "outputs": [],
      "source": []
    }
  ],
  "metadata": {
    "colab": {
      "provenance": []
    },
    "kernelspec": {
      "display_name": "Python 3",
      "name": "python3"
    },
    "language_info": {
      "name": "python"
    }
  },
  "nbformat": 4,
  "nbformat_minor": 0
}
